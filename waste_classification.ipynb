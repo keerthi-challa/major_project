{
  "cells": [
    {
      "cell_type": "markdown",
      "metadata": {
        "id": "view-in-github",
        "colab_type": "text"
      },
      "source": [
        "<a href=\"https://colab.research.google.com/github/keerthi-challa/major_project/blob/main/waste_classification.ipynb\" target=\"_parent\"><img src=\"https://colab.research.google.com/assets/colab-badge.svg\" alt=\"Open In Colab\"/></a>"
      ]
    },
    {
      "cell_type": "code",
      "execution_count": null,
      "metadata": {
        "colab": {
          "base_uri": "https://localhost:8080/"
        },
        "id": "u7-cwYkLR9B3",
        "outputId": "b87f5069-0084-4d09-a519-cdbf8fe09ece"
      },
      "outputs": [
        {
          "output_type": "stream",
          "name": "stdout",
          "text": [
            "Drive already mounted at /content/drive; to attempt to forcibly remount, call drive.mount(\"/content/drive\", force_remount=True).\n"
          ]
        }
      ],
      "source": [
        "from google.colab import drive\n",
        "drive.mount('/content/drive')"
      ]
    },
    {
      "cell_type": "code",
      "execution_count": null,
      "metadata": {
        "colab": {
          "base_uri": "https://localhost:8080/"
        },
        "id": "H2ZW72SVO1BG",
        "outputId": "d49793f4-c8c6-4993-9bdc-bade052d4b2c"
      },
      "outputs": [
        {
          "output_type": "stream",
          "name": "stdout",
          "text": [
            "['dry_waste', 'wet_waste']\n",
            "Types of classes labels found:  2\n"
          ]
        }
      ],
      "source": [
        "import numpy as np\n",
        "import tensorflow as tf\n",
        "import pandas as pd\n",
        "import matplotlib.pyplot as plt\n",
        "import os\n",
        "\n",
        "dataset_path = os.listdir('/content/drive/MyDrive/majorproject_data')\n",
        "\n",
        "print (dataset_path)\n",
        "\n",
        "print(\"Types of classes labels found: \", len(dataset_path))"
      ]
    },
    {
      "cell_type": "code",
      "execution_count": null,
      "metadata": {
        "id": "wzyY830ge1tA"
      },
      "outputs": [],
      "source": [
        "class_labels = []\n",
        "\n",
        "for item in dataset_path:\n",
        "\n",
        " all_classes = os.listdir('/content/drive/MyDrive/majorproject_data' + '/' +item)\n",
        " #print(all_classes)\n",
        "\n",
        "\n",
        " for room in all_classes:\n",
        "    class_labels.append((item, str('/content/drive/MyDrive/majorproject_data' + '/' +item) + '/' + room))\n",
        "    #print(class_labels[:5])"
      ]
    },
    {
      "cell_type": "code",
      "execution_count": null,
      "metadata": {
        "colab": {
          "base_uri": "https://localhost:8080/"
        },
        "id": "9P0OvJKAMQP8",
        "outputId": "d2e36750-c78e-4a88-d1da-e0aabfcfc1c7"
      },
      "outputs": [
        {
          "output_type": "stream",
          "name": "stdout",
          "text": [
            "      Labels                                              image\n",
            "0  dry_waste  /content/drive/MyDrive/majorproject_data/dry_w...\n",
            "1  dry_waste  /content/drive/MyDrive/majorproject_data/dry_w...\n",
            "2  dry_waste  /content/drive/MyDrive/majorproject_data/dry_w...\n",
            "3  dry_waste  /content/drive/MyDrive/majorproject_data/dry_w...\n",
            "4  dry_waste  /content/drive/MyDrive/majorproject_data/dry_w...\n",
            "         Labels                                              image\n",
            "2508  wet_waste  /content/drive/MyDrive/majorproject_data/wet_w...\n",
            "2509  wet_waste  /content/drive/MyDrive/majorproject_data/wet_w...\n",
            "2510  wet_waste  /content/drive/MyDrive/majorproject_data/wet_w...\n",
            "2511  wet_waste  /content/drive/MyDrive/majorproject_data/wet_w...\n",
            "2512  wet_waste  /content/drive/MyDrive/majorproject_data/wet_w...\n"
          ]
        }
      ],
      "source": [
        "df = pd.DataFrame(data=class_labels, columns=['Labels', 'image'])\n",
        "print(df.head())\n",
        "print(df.tail())"
      ]
    },
    {
      "cell_type": "code",
      "execution_count": null,
      "metadata": {
        "colab": {
          "base_uri": "https://localhost:8080/"
        },
        "id": "yK8DUwUwMrOm",
        "outputId": "9f277030-adf0-4a51-d988-2d6863213727"
      },
      "outputs": [
        {
          "output_type": "stream",
          "name": "stdout",
          "text": [
            "Total number of images in the dataset:  2513\n",
            "wet_waste    1401\n",
            "dry_waste    1112\n",
            "Name: Labels, dtype: int64\n"
          ]
        }
      ],
      "source": [
        "print(\"Total number of images in the dataset: \", len(df))\n",
        "label_count = df['Labels'].value_counts()\n",
        "print(label_count)"
      ]
    },
    {
      "cell_type": "code",
      "execution_count": null,
      "metadata": {
        "id": "ywvlg28XM5rp"
      },
      "outputs": [],
      "source": [
        "import cv2\n",
        "path = '/content/drive/MyDrive/majorproject_data/'\n",
        "dataset_path = os.listdir('/content/drive/MyDrive/majorproject_data')\n",
        "\n",
        "im_size = 224\n",
        "\n",
        "images = []\n",
        "labels = []\n",
        "\n",
        "for i in dataset_path:\n",
        "    data_path = path + str(i)\n",
        "    filenames = [i for i in os.listdir(data_path) ]\n",
        "\n",
        "    for f in filenames:\n",
        "        img = cv2.imread(data_path + '/' + f)\n",
        "        img = cv2.resize(img, (im_size, im_size))\n",
        "        images.append(img)\n",
        "        labels.append(i)"
      ]
    },
    {
      "cell_type": "code",
      "execution_count": null,
      "metadata": {
        "colab": {
          "base_uri": "https://localhost:8080/"
        },
        "id": "kL8rJG0eNYf5",
        "outputId": "5ceab093-eb9a-4574-a38c-0e8aa0da0e1a"
      },
      "outputs": [
        {
          "output_type": "execute_result",
          "data": {
            "text/plain": [
              "(2513, 224, 224, 3)"
            ]
          },
          "metadata": {},
          "execution_count": 8
        }
      ],
      "source": [
        "images = np.array(images)\n",
        "images = images.astype('float32')\n",
        "images.shape"
      ]
    },
    {
      "cell_type": "code",
      "execution_count": null,
      "metadata": {
        "colab": {
          "base_uri": "https://localhost:8080/"
        },
        "id": "ZPP8jT_QNt-P",
        "outputId": "ae0cbdc5-0a80-4629-a65a-9a26ed94a926"
      },
      "outputs": [
        {
          "output_type": "stream",
          "name": "stdout",
          "text": [
            "['dry_waste' 'dry_waste' 'dry_waste' ... 'wet_waste' 'wet_waste'\n",
            " 'wet_waste']\n",
            "[0 0 0 ... 1 1 1]\n"
          ]
        }
      ],
      "source": [
        "from sklearn.preprocessing import LabelEncoder , OneHotEncoder\n",
        "y=df['Labels'].values\n",
        "print(y)\n",
        "\n",
        "y_labelencoder = LabelEncoder ()\n",
        "y = y_labelencoder.fit_transform (y)\n",
        "print (y)"
      ]
    },
    {
      "cell_type": "code",
      "execution_count": null,
      "metadata": {
        "colab": {
          "base_uri": "https://localhost:8080/"
        },
        "id": "At7entEqN14I",
        "outputId": "8a5309cc-2860-4331-df1e-bf110df8629a"
      },
      "outputs": [
        {
          "output_type": "stream",
          "name": "stdout",
          "text": [
            "[[1. 0.]\n",
            " [1. 0.]\n",
            " [1. 0.]\n",
            " [1. 0.]\n",
            " [1. 0.]]\n",
            "[[1. 0.]\n",
            " [1. 0.]\n",
            " [1. 0.]\n",
            " ...\n",
            " [0. 1.]\n",
            " [0. 1.]\n",
            " [0. 1.]]\n"
          ]
        }
      ],
      "source": [
        "y=y.reshape(-1,1)\n",
        "\n",
        "from sklearn.compose import ColumnTransformer\n",
        "ct = ColumnTransformer([('my_ohe', OneHotEncoder(), [0])], remainder='passthrough')\n",
        "Y = ct.fit_transform(y)\n",
        "print(Y[:5])\n",
        "print(Y[35:])"
      ]
    },
    {
      "cell_type": "code",
      "execution_count": null,
      "metadata": {
        "colab": {
          "base_uri": "https://localhost:8080/"
        },
        "id": "TLowMyzGN-7r",
        "outputId": "0e987335-ae1a-4596-a4c9-6f8e4df40716"
      },
      "outputs": [
        {
          "output_type": "stream",
          "name": "stdout",
          "text": [
            "(2387, 224, 224, 3)\n",
            "(2387, 2)\n",
            "(126, 224, 224, 3)\n",
            "(126, 2)\n"
          ]
        }
      ],
      "source": [
        "from sklearn.utils import shuffle\n",
        "from sklearn.model_selection import train_test_split\n",
        "\n",
        "\n",
        "images, Y = shuffle(images, Y, random_state=1)\n",
        "\n",
        "\n",
        "train_x, test_x, train_y, test_y = train_test_split(images, Y, test_size=0.05, random_state=415)\n",
        "\n",
        "\n",
        "print(train_x.shape)\n",
        "print(train_y.shape)\n",
        "print(test_x.shape)\n",
        "print(test_y.shape)"
      ]
    },
    {
      "cell_type": "code",
      "execution_count": null,
      "metadata": {
        "id": "9tDUqNfNOFGh"
      },
      "outputs": [],
      "source": [
        "from tensorflow.keras import layers\n",
        "from tensorflow.keras.applications import EfficientNetB0\n",
        "\n",
        "NUM_CLASSES = 2\n",
        "IMG_SIZE = 224\n",
        "size = (IMG_SIZE, IMG_SIZE)\n",
        "\n",
        "\n",
        "inputs = layers.Input(shape=(IMG_SIZE, IMG_SIZE, 3))\n",
        "\n",
        "\n",
        "\n",
        "\n",
        "outputs = EfficientNetB0(include_top=True, weights=None, classes=NUM_CLASSES)(inputs)"
      ]
    },
    {
      "cell_type": "code",
      "execution_count": null,
      "metadata": {
        "colab": {
          "base_uri": "https://localhost:8080/"
        },
        "id": "2SPdYSsyOMef",
        "outputId": "3ba88583-92d8-4c60-cd10-5c87bb23c3a3"
      },
      "outputs": [
        {
          "output_type": "stream",
          "name": "stdout",
          "text": [
            "Model: \"model_1\"\n",
            "_________________________________________________________________\n",
            " Layer (type)                Output Shape              Param #   \n",
            "=================================================================\n",
            " input_1 (InputLayer)        [(None, 224, 224, 3)]     0         \n",
            "                                                                 \n",
            " efficientnetb0 (Functional  (None, 2)                 4052133   \n",
            " )                                                               \n",
            "                                                                 \n",
            "=================================================================\n",
            "Total params: 4052133 (15.46 MB)\n",
            "Trainable params: 4010110 (15.30 MB)\n",
            "Non-trainable params: 42023 (164.16 KB)\n",
            "_________________________________________________________________\n",
            "Epoch 1/16\n",
            "75/75 - 352s - loss: 1.8616 - accuracy: 0.6963 - 352s/epoch - 5s/step\n",
            "Epoch 2/16\n",
            "75/75 - 327s - loss: 0.6010 - accuracy: 0.8504 - 327s/epoch - 4s/step\n",
            "Epoch 3/16\n",
            "75/75 - 333s - loss: 0.3590 - accuracy: 0.8856 - 333s/epoch - 4s/step\n",
            "Epoch 4/16\n",
            "75/75 - 330s - loss: 0.3053 - accuracy: 0.8886 - 330s/epoch - 4s/step\n",
            "Epoch 5/16\n",
            "75/75 - 333s - loss: 0.5124 - accuracy: 0.8504 - 333s/epoch - 4s/step\n",
            "Epoch 6/16\n",
            "75/75 - 330s - loss: 0.4197 - accuracy: 0.9049 - 330s/epoch - 4s/step\n",
            "Epoch 7/16\n",
            "75/75 - 325s - loss: 0.3353 - accuracy: 0.9028 - 325s/epoch - 4s/step\n",
            "Epoch 8/16\n",
            "75/75 - 311s - loss: 0.2522 - accuracy: 0.9284 - 311s/epoch - 4s/step\n",
            "Epoch 9/16\n",
            "75/75 - 319s - loss: 0.4072 - accuracy: 0.9229 - 319s/epoch - 4s/step\n",
            "Epoch 10/16\n",
            "75/75 - 314s - loss: 0.3120 - accuracy: 0.9300 - 314s/epoch - 4s/step\n",
            "Epoch 11/16\n",
            "75/75 - 313s - loss: 0.2303 - accuracy: 0.9355 - 313s/epoch - 4s/step\n",
            "Epoch 12/16\n"
          ]
        }
      ],
      "source": [
        "import tensorflow as tf\n",
        "\n",
        "model = tf.keras.Model(inputs, outputs)\n",
        "\n",
        "\n",
        "model.compile(optimizer=\"adam\", loss=\"categorical_crossentropy\", metrics=[\"accuracy\"] )\n",
        "\n",
        "model.summary()\n",
        "\n",
        "hist = model.fit(train_x, train_y, epochs=16, verbose=2)"
      ]
    },
    {
      "cell_type": "code",
      "execution_count": null,
      "metadata": {
        "id": "4Z-fytioIY4e"
      },
      "outputs": [],
      "source": [
        "# Save the model architecture to a JSON file\n",
        "model_json = model.to_json()\n",
        "with open(\"model_architecture.json\", \"w\") as json_file:\n",
        "    json_file.write(model_json)\n",
        "\n",
        "# Save the model weights to a separate file\n",
        "model.save_weights(\"kerasModel.h5\")"
      ]
    },
    {
      "cell_type": "code",
      "execution_count": null,
      "metadata": {
        "id": "_0F8HJATPSQY"
      },
      "outputs": [],
      "source": [
        "import matplotlib.pyplot as plt\n",
        "\n",
        "\n",
        "def plot_hist(hist):\n",
        "    plt.plot(hist.history[\"accuracy\"])\n",
        "    #plt.plot(hist.history[\"val_accuracy\"])\n",
        "    plt.title(\"model accuracy\")\n",
        "    plt.ylabel(\"accuracy\")\n",
        "    plt.xlabel(\"epoch\")\n",
        "    plt.legend([\"train\", \"validation\"], loc=\"upper left\")\n",
        "    plt.show()\n",
        "\n",
        "\n",
        "plot_hist(hist)"
      ]
    },
    {
      "cell_type": "code",
      "execution_count": null,
      "metadata": {
        "id": "iuPAw_r1Pase",
        "colab": {
          "base_uri": "https://localhost:8080/"
        },
        "outputId": "08edcfb6-4a5b-415c-97d8-a88bd9933b9c"
      },
      "outputs": [
        {
          "output_type": "stream",
          "name": "stdout",
          "text": [
            "4/4 [==============================] - 6s 1s/step - loss: 0.6931 - accuracy: 0.4603\n",
            "Loss = 0.693146824836731\n",
            "Test Accuracy = 0.460317462682724\n"
          ]
        }
      ],
      "source": [
        "preds = model.evaluate(test_x, test_y)\n",
        "print (\"Loss = \" + str(preds[0]))\n",
        "print (\"Test Accuracy = \" + str(preds[1]))"
      ]
    },
    {
      "cell_type": "code",
      "execution_count": null,
      "metadata": {
        "id": "Y9Fho1vsPe7r",
        "colab": {
          "base_uri": "https://localhost:8080/",
          "height": 470
        },
        "outputId": "87da51d5-1b91-4d56-b5a8-84088eca14b0"
      },
      "outputs": [
        {
          "output_type": "stream",
          "name": "stdout",
          "text": [
            "Input image shape: (1, 224, 224, 3)\n"
          ]
        },
        {
          "output_type": "execute_result",
          "data": {
            "text/plain": [
              "<matplotlib.image.AxesImage at 0x7995c3a2f190>"
            ]
          },
          "metadata": {},
          "execution_count": 15
        },
        {
          "output_type": "display_data",
          "data": {
            "text/plain": [
              "<Figure size 640x480 with 1 Axes>"
            ],
            "image/png": "[encoded data removed]"
          },
          "metadata": {}
        }
      ],
      "source": [
        "from matplotlib.pyplot import imread\n",
        "from matplotlib.pyplot import imshow\n",
        "from tensorflow.keras.preprocessing import image\n",
        "from tensorflow.keras.applications.imagenet_utils import decode_predictions\n",
        "from tensorflow.keras.applications.imagenet_utils import preprocess_input\n",
        "\n",
        "\n",
        "img_path = '/content/drive/MyDrive/R_56.jpg'\n",
        "\n",
        "#img = image.load_img(img_path, target_size=(224, 224))\n",
        "#x = img.img_to_array(img)\n",
        "\n",
        "img = cv2.imread(img_path)\n",
        "img = cv2.resize(img, (224, 224))\n",
        "\n",
        "x = np.expand_dims(img, axis=0)\n",
        "x = preprocess_input(x)\n",
        "\n",
        "print('Input image shape:', x.shape)\n",
        "\n",
        "my_image = imread(img_path)\n",
        "imshow(my_image)"
      ]
    },
    {
      "cell_type": "code",
      "execution_count": null,
      "metadata": {
        "id": "CsG4951oQe8R"
      },
      "outputs": [],
      "source": [
        "preds=model.predict(x)\n",
        "preds"
      ]
    },
    {
      "cell_type": "code",
      "execution_count": null,
      "metadata": {
        "id": "IjpIJsaoKIc9"
      },
      "outputs": [],
      "source": [
        "from matplotlib.pyplot import imread\n",
        "from matplotlib.pyplot import imshow\n",
        "from tensorflow.keras.preprocessing import image\n",
        "from tensorflow.keras.applications.imagenet_utils import decode_predictions\n",
        "from tensorflow.keras.applications.imagenet_utils import preprocess_input\n",
        "\n",
        "\n",
        "img_path = '/content/drive/MyDrive/O_2248.jpg'\n",
        "\n",
        "\n",
        "\n",
        "img = cv2.imread(img_path)\n",
        "img = cv2.resize(img, (224, 224))\n",
        "\n",
        "y = np.expand_dims(img, axis=0)\n",
        "y = preprocess_input(y)\n",
        "\n",
        "print('Input image shape:', x.shape)\n",
        "\n",
        "my_image = imread(img_path)\n",
        "imshow(my_image)"
      ]
    },
    {
      "cell_type": "code",
      "execution_count": null,
      "metadata": {
        "id": "LnYTQXfoKaCy"
      },
      "outputs": [],
      "source": [
        "preds=model.predict(y)\n",
        "preds"
      ]
    },
    {
      "cell_type": "code",
      "execution_count": null,
      "metadata": {
        "id": "ag02UWkvPHaq"
      },
      "outputs": [],
      "source": [
        "import numpy as np\n",
        "from sklearn.metrics import classification_report\n",
        "\n",
        "# Assuming you have test data and true labels\n",
        "test_predictions = model.predict(test_x)\n",
        "\n",
        "# Convert predicted probabilities to class labels\n",
        "predicted_labels = np.argmax(test_predictions, axis=1)\n",
        "\n",
        "# Generate the classification report\n",
        "report = classification_report(np.argmax(test_y, axis=1), predicted_labels)\n",
        "\n",
        "# Print the classification report\n",
        "print(\"Classification Report:\")\n",
        "print(report)\n"
      ]
    },
    {
      "cell_type": "code",
      "execution_count": null,
      "metadata": {
        "id": "MYeVAQ-GPmNr"
      },
      "outputs": [],
      "source": [
        "# Save the model architecture to a JSON file\n",
        "model_json = model.to_json()\n",
        "with open(\"model_architecture.json\", \"w\") as json_file:\n",
        "    json_file.write(model_json)\n",
        "\n",
        "# Save the model weights to a separate file\n",
        "model.save_weights(\"kerasModel.h5\")"
      ]
    }
  ],
  "metadata": {
    "colab": {
      "provenance": [],
      "mount_file_id": "1CkMAlM5yuhrQgPQ5S05_bFRrHUHQvFXP",
      "authorship_tag": "ABX9TyPvl/RnG4cxuhfmpEgPuw2q",
      "include_colab_link": true
    },
    "kernelspec": {
      "display_name": "Python 3",
      "name": "python3"
    },
    "language_info": {
      "name": "python"
    }
  },
  "nbformat": 4,
  "nbformat_minor": 0
}